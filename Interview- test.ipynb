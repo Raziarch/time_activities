{
 "cells": [
  {
   "cell_type": "code",
   "execution_count": 565,
   "metadata": {},
   "outputs": [],
   "source": [
    "import pandas as pd\n",
    "import matplotlib.pyplot as plt\n",
    "import numpy as np"
   ]
  },
  {
   "cell_type": "code",
   "execution_count": 566,
   "metadata": {},
   "outputs": [],
   "source": [
    "df = pd.read_csv(\"data_analyst_assignment.csv\",\n",
    "                 index_col='FILE_ID',\n",
    "                 parse_dates=['CREATED', 'UPDATED', 'DELETED'])"
   ]
  },
  {
   "cell_type": "code",
   "execution_count": 567,
   "metadata": {},
   "outputs": [
    {
     "data": {
      "text/html": [
       "<div>\n",
       "<style scoped>\n",
       "    .dataframe tbody tr th:only-of-type {\n",
       "        vertical-align: middle;\n",
       "    }\n",
       "\n",
       "    .dataframe tbody tr th {\n",
       "        vertical-align: top;\n",
       "    }\n",
       "\n",
       "    .dataframe thead th {\n",
       "        text-align: right;\n",
       "    }\n",
       "</style>\n",
       "<table border=\"1\" class=\"dataframe\">\n",
       "  <thead>\n",
       "    <tr style=\"text-align: right;\">\n",
       "      <th></th>\n",
       "      <th>USER</th>\n",
       "      <th>CREATED</th>\n",
       "      <th>UPDATED</th>\n",
       "      <th>DELETED</th>\n",
       "      <th>VERSION</th>\n",
       "    </tr>\n",
       "    <tr>\n",
       "      <th>FILE_ID</th>\n",
       "      <th></th>\n",
       "      <th></th>\n",
       "      <th></th>\n",
       "      <th></th>\n",
       "      <th></th>\n",
       "    </tr>\n",
       "  </thead>\n",
       "  <tbody>\n",
       "    <tr>\n",
       "      <th>rrT0615</th>\n",
       "      <td>3633870</td>\n",
       "      <td>2019-08-01</td>\n",
       "      <td>2019-08-14</td>\n",
       "      <td>NaT</td>\n",
       "      <td>26</td>\n",
       "    </tr>\n",
       "    <tr>\n",
       "      <th>rrT0625</th>\n",
       "      <td>2853751</td>\n",
       "      <td>2019-08-01</td>\n",
       "      <td>2019-11-19</td>\n",
       "      <td>NaT</td>\n",
       "      <td>26</td>\n",
       "    </tr>\n",
       "    <tr>\n",
       "      <th>rrT0630</th>\n",
       "      <td>2538826</td>\n",
       "      <td>2019-08-01</td>\n",
       "      <td>2019-09-28</td>\n",
       "      <td>NaT</td>\n",
       "      <td>2</td>\n",
       "    </tr>\n",
       "    <tr>\n",
       "      <th>rrT0635</th>\n",
       "      <td>1642941</td>\n",
       "      <td>2019-08-01</td>\n",
       "      <td>2019-12-05</td>\n",
       "      <td>NaT</td>\n",
       "      <td>5</td>\n",
       "    </tr>\n",
       "    <tr>\n",
       "      <th>rrT0640</th>\n",
       "      <td>3635605</td>\n",
       "      <td>2019-08-01</td>\n",
       "      <td>2019-10-13</td>\n",
       "      <td>2019-10-13</td>\n",
       "      <td>1</td>\n",
       "    </tr>\n",
       "  </tbody>\n",
       "</table>\n",
       "</div>"
      ],
      "text/plain": [
       "            USER    CREATED    UPDATED    DELETED VERSION\n",
       "FILE_ID                                                  \n",
       "rrT0615  3633870 2019-08-01 2019-08-14        NaT      26\n",
       "rrT0625  2853751 2019-08-01 2019-11-19        NaT      26\n",
       "rrT0630  2538826 2019-08-01 2019-09-28        NaT       2\n",
       "rrT0635  1642941 2019-08-01 2019-12-05        NaT       5\n",
       "rrT0640  3635605 2019-08-01 2019-10-13 2019-10-13       1"
      ]
     },
     "execution_count": 567,
     "metadata": {},
     "output_type": "execute_result"
    }
   ],
   "source": [
    "df.head()"
   ]
  },
  {
   "cell_type": "code",
   "execution_count": 568,
   "metadata": {},
   "outputs": [
    {
     "name": "stdout",
     "output_type": "stream",
     "text": [
      "<class 'pandas.core.frame.DataFrame'>\n",
      "Index: 102133 entries, rrT0615 to Gty32pp5\n",
      "Data columns (total 5 columns):\n",
      " #   Column   Non-Null Count   Dtype         \n",
      "---  ------   --------------   -----         \n",
      " 0   USER     102129 non-null  object        \n",
      " 1   CREATED  102133 non-null  datetime64[ns]\n",
      " 2   UPDATED  102133 non-null  datetime64[ns]\n",
      " 3   DELETED  28079 non-null   datetime64[ns]\n",
      " 4   VERSION  102103 non-null  object        \n",
      "dtypes: datetime64[ns](3), object(2)\n",
      "memory usage: 4.7+ MB\n"
     ]
    }
   ],
   "source": [
    "df.info()"
   ]
  },
  {
   "cell_type": "code",
   "execution_count": 569,
   "metadata": {},
   "outputs": [
    {
     "data": {
      "text/html": [
       "<div>\n",
       "<style scoped>\n",
       "    .dataframe tbody tr th:only-of-type {\n",
       "        vertical-align: middle;\n",
       "    }\n",
       "\n",
       "    .dataframe tbody tr th {\n",
       "        vertical-align: top;\n",
       "    }\n",
       "\n",
       "    .dataframe thead th {\n",
       "        text-align: right;\n",
       "    }\n",
       "</style>\n",
       "<table border=\"1\" class=\"dataframe\">\n",
       "  <thead>\n",
       "    <tr style=\"text-align: right;\">\n",
       "      <th></th>\n",
       "      <th>USER</th>\n",
       "      <th>CREATED</th>\n",
       "      <th>UPDATED</th>\n",
       "      <th>DELETED</th>\n",
       "      <th>VERSION</th>\n",
       "    </tr>\n",
       "  </thead>\n",
       "  <tbody>\n",
       "    <tr>\n",
       "      <th>count</th>\n",
       "      <td>102129</td>\n",
       "      <td>102133</td>\n",
       "      <td>102133</td>\n",
       "      <td>28079</td>\n",
       "      <td>102103</td>\n",
       "    </tr>\n",
       "    <tr>\n",
       "      <th>unique</th>\n",
       "      <td>10035</td>\n",
       "      <td>92</td>\n",
       "      <td>188</td>\n",
       "      <td>188</td>\n",
       "      <td>420</td>\n",
       "    </tr>\n",
       "    <tr>\n",
       "      <th>top</th>\n",
       "      <td>3282991</td>\n",
       "      <td>2019-08-13 00:00:00</td>\n",
       "      <td>2019-08-13 00:00:00</td>\n",
       "      <td>2019-10-25 00:00:00</td>\n",
       "      <td>1</td>\n",
       "    </tr>\n",
       "    <tr>\n",
       "      <th>freq</th>\n",
       "      <td>6038</td>\n",
       "      <td>5123</td>\n",
       "      <td>4405</td>\n",
       "      <td>474</td>\n",
       "      <td>27476</td>\n",
       "    </tr>\n",
       "    <tr>\n",
       "      <th>first</th>\n",
       "      <td>NaN</td>\n",
       "      <td>2019-08-01 00:00:00</td>\n",
       "      <td>2019-08-01 00:00:00</td>\n",
       "      <td>2019-08-01 00:00:00</td>\n",
       "      <td>NaN</td>\n",
       "    </tr>\n",
       "    <tr>\n",
       "      <th>last</th>\n",
       "      <td>NaN</td>\n",
       "      <td>2019-10-31 00:00:00</td>\n",
       "      <td>2020-02-04 00:00:00</td>\n",
       "      <td>2020-02-04 00:00:00</td>\n",
       "      <td>NaN</td>\n",
       "    </tr>\n",
       "  </tbody>\n",
       "</table>\n",
       "</div>"
      ],
      "text/plain": [
       "           USER              CREATED              UPDATED  \\\n",
       "count    102129               102133               102133   \n",
       "unique    10035                   92                  188   \n",
       "top     3282991  2019-08-13 00:00:00  2019-08-13 00:00:00   \n",
       "freq       6038                 5123                 4405   \n",
       "first       NaN  2019-08-01 00:00:00  2019-08-01 00:00:00   \n",
       "last        NaN  2019-10-31 00:00:00  2020-02-04 00:00:00   \n",
       "\n",
       "                    DELETED VERSION  \n",
       "count                 28079  102103  \n",
       "unique                  188     420  \n",
       "top     2019-10-25 00:00:00       1  \n",
       "freq                    474   27476  \n",
       "first   2019-08-01 00:00:00     NaN  \n",
       "last    2020-02-04 00:00:00     NaN  "
      ]
     },
     "execution_count": 569,
     "metadata": {},
     "output_type": "execute_result"
    }
   ],
   "source": [
    "df.describe()"
   ]
  },
  {
   "cell_type": "code",
   "execution_count": 571,
   "metadata": {},
   "outputs": [
    {
     "name": "stdout",
     "output_type": "stream",
     "text": [
      "<class 'pandas.core.frame.DataFrame'>\n",
      "Index: 102133 entries, rrT0615 to Gty32pp5\n",
      "Data columns (total 5 columns):\n",
      " #   Column   Non-Null Count   Dtype         \n",
      "---  ------   --------------   -----         \n",
      " 0   USER     102129 non-null  object        \n",
      " 1   CREATED  102133 non-null  datetime64[ns]\n",
      " 2   UPDATED  102133 non-null  datetime64[ns]\n",
      " 3   DELETED  28079 non-null   datetime64[ns]\n",
      " 4   VERSION  102103 non-null  object        \n",
      "dtypes: datetime64[ns](3), object(2)\n",
      "memory usage: 4.7+ MB\n"
     ]
    }
   ],
   "source": [
    "df.info()"
   ]
  },
  {
   "cell_type": "code",
   "execution_count": 572,
   "metadata": {},
   "outputs": [
    {
     "data": {
      "text/plain": [
       "Index(['USER', 'CREATED', 'UPDATED', 'DELETED', 'VERSION'], dtype='object')"
      ]
     },
     "execution_count": 572,
     "metadata": {},
     "output_type": "execute_result"
    }
   ],
   "source": [
    "df.columns"
   ]
  },
  {
   "cell_type": "code",
   "execution_count": 603,
   "metadata": {},
   "outputs": [
    {
     "data": {
      "text/html": [
       "<div>\n",
       "<style scoped>\n",
       "    .dataframe tbody tr th:only-of-type {\n",
       "        vertical-align: middle;\n",
       "    }\n",
       "\n",
       "    .dataframe tbody tr th {\n",
       "        vertical-align: top;\n",
       "    }\n",
       "\n",
       "    .dataframe thead th {\n",
       "        text-align: right;\n",
       "    }\n",
       "</style>\n",
       "<table border=\"1\" class=\"dataframe\">\n",
       "  <thead>\n",
       "    <tr style=\"text-align: right;\">\n",
       "      <th></th>\n",
       "      <th>USER</th>\n",
       "      <th>CREATED</th>\n",
       "      <th>UPDATED</th>\n",
       "      <th>DELETED</th>\n",
       "      <th>VERSION</th>\n",
       "      <th>MONTH</th>\n",
       "      <th>DAY</th>\n",
       "    </tr>\n",
       "    <tr>\n",
       "      <th>FILE_ID</th>\n",
       "      <th></th>\n",
       "      <th></th>\n",
       "      <th></th>\n",
       "      <th></th>\n",
       "      <th></th>\n",
       "      <th></th>\n",
       "      <th></th>\n",
       "    </tr>\n",
       "  </thead>\n",
       "  <tbody>\n",
       "    <tr>\n",
       "      <th>17972705</th>\n",
       "      <td>1433033</td>\n",
       "      <td>2019-09-03</td>\n",
       "      <td>2019-09-10</td>\n",
       "      <td>2019-09-10</td>\n",
       "      <td>13.0</td>\n",
       "      <td>9</td>\n",
       "      <td>3</td>\n",
       "    </tr>\n",
       "    <tr>\n",
       "      <th>ffR10810</th>\n",
       "      <td>16ddR21</td>\n",
       "      <td>2019-08-02</td>\n",
       "      <td>2019-12-19</td>\n",
       "      <td>NaT</td>\n",
       "      <td>21.0</td>\n",
       "      <td>8</td>\n",
       "      <td>2</td>\n",
       "    </tr>\n",
       "    <tr>\n",
       "      <th>18622880</th>\n",
       "      <td>1674951</td>\n",
       "      <td>2019-10-11</td>\n",
       "      <td>2019-12-20</td>\n",
       "      <td>NaT</td>\n",
       "      <td>85.0</td>\n",
       "      <td>10</td>\n",
       "      <td>11</td>\n",
       "    </tr>\n",
       "    <tr>\n",
       "      <th>17749005</th>\n",
       "      <td>3637735</td>\n",
       "      <td>2019-08-20</td>\n",
       "      <td>2019-11-09</td>\n",
       "      <td>2019-11-09</td>\n",
       "      <td>8.0</td>\n",
       "      <td>8</td>\n",
       "      <td>20</td>\n",
       "    </tr>\n",
       "    <tr>\n",
       "      <th>175792pp</th>\n",
       "      <td>3282991</td>\n",
       "      <td>2019-08-13</td>\n",
       "      <td>2019-08-13</td>\n",
       "      <td>NaT</td>\n",
       "      <td>1.0</td>\n",
       "      <td>8</td>\n",
       "      <td>13</td>\n",
       "    </tr>\n",
       "    <tr>\n",
       "      <th>18093310</th>\n",
       "      <td>1205813</td>\n",
       "      <td>2019-09-10</td>\n",
       "      <td>2019-11-09</td>\n",
       "      <td>NaT</td>\n",
       "      <td>12.0</td>\n",
       "      <td>9</td>\n",
       "      <td>10</td>\n",
       "    </tr>\n",
       "    <tr>\n",
       "      <th>18001410</th>\n",
       "      <td>601692</td>\n",
       "      <td>2019-09-05</td>\n",
       "      <td>2019-10-02</td>\n",
       "      <td>NaT</td>\n",
       "      <td>8.0</td>\n",
       "      <td>9</td>\n",
       "      <td>5</td>\n",
       "    </tr>\n",
       "    <tr>\n",
       "      <th>ddR02790</th>\n",
       "      <td>2pp9176</td>\n",
       "      <td>2019-10-18</td>\n",
       "      <td>2019-12-16</td>\n",
       "      <td>NaT</td>\n",
       "      <td>4.0</td>\n",
       "      <td>10</td>\n",
       "      <td>18</td>\n",
       "    </tr>\n",
       "    <tr>\n",
       "      <th>fgT73140</th>\n",
       "      <td>35953pp</td>\n",
       "      <td>2019-10-09</td>\n",
       "      <td>2019-10-10</td>\n",
       "      <td>2019-10-10</td>\n",
       "      <td>1.0</td>\n",
       "      <td>10</td>\n",
       "      <td>9</td>\n",
       "    </tr>\n",
       "    <tr>\n",
       "      <th>fgT79900</th>\n",
       "      <td>3297596</td>\n",
       "      <td>2019-10-09</td>\n",
       "      <td>2019-10-18</td>\n",
       "      <td>NaT</td>\n",
       "      <td>39.0</td>\n",
       "      <td>10</td>\n",
       "      <td>9</td>\n",
       "    </tr>\n",
       "  </tbody>\n",
       "</table>\n",
       "</div>"
      ],
      "text/plain": [
       "             USER    CREATED    UPDATED    DELETED  VERSION  MONTH  DAY\n",
       "FILE_ID                                                                \n",
       "17972705  1433033 2019-09-03 2019-09-10 2019-09-10     13.0      9    3\n",
       "ffR10810  16ddR21 2019-08-02 2019-12-19        NaT     21.0      8    2\n",
       "18622880  1674951 2019-10-11 2019-12-20        NaT     85.0     10   11\n",
       "17749005  3637735 2019-08-20 2019-11-09 2019-11-09      8.0      8   20\n",
       "175792pp  3282991 2019-08-13 2019-08-13        NaT      1.0      8   13\n",
       "18093310  1205813 2019-09-10 2019-11-09        NaT     12.0      9   10\n",
       "18001410   601692 2019-09-05 2019-10-02        NaT      8.0      9    5\n",
       "ddR02790  2pp9176 2019-10-18 2019-12-16        NaT      4.0     10   18\n",
       "fgT73140  35953pp 2019-10-09 2019-10-10 2019-10-10      1.0     10    9\n",
       "fgT79900  3297596 2019-10-09 2019-10-18        NaT     39.0     10    9"
      ]
     },
     "execution_count": 603,
     "metadata": {},
     "output_type": "execute_result"
    }
   ],
   "source": [
    "df.sample(10)"
   ]
  },
  {
   "cell_type": "code",
   "execution_count": 574,
   "metadata": {},
   "outputs": [],
   "source": [
    "df.VERSION = pd.to_numeric(df.VERSION, errors='coerce')"
   ]
  },
  {
   "cell_type": "code",
   "execution_count": 575,
   "metadata": {},
   "outputs": [
    {
     "name": "stdout",
     "output_type": "stream",
     "text": [
      "<class 'pandas.core.frame.DataFrame'>\n",
      "Index: 102133 entries, rrT0615 to Gty32pp5\n",
      "Data columns (total 5 columns):\n",
      " #   Column   Non-Null Count   Dtype         \n",
      "---  ------   --------------   -----         \n",
      " 0   USER     102129 non-null  object        \n",
      " 1   CREATED  102133 non-null  datetime64[ns]\n",
      " 2   UPDATED  102133 non-null  datetime64[ns]\n",
      " 3   DELETED  28079 non-null   datetime64[ns]\n",
      " 4   VERSION  101912 non-null  float64       \n",
      "dtypes: datetime64[ns](3), float64(1), object(1)\n",
      "memory usage: 4.7+ MB\n"
     ]
    }
   ],
   "source": [
    "df.info()"
   ]
  },
  {
   "cell_type": "code",
   "execution_count": 576,
   "metadata": {},
   "outputs": [
    {
     "name": "stdout",
     "output_type": "stream",
     "text": [
      "1494.0\n",
      "1.0\n"
     ]
    }
   ],
   "source": [
    "print(max(df.VERSION))\n",
    "print(min(df.VERSION))"
   ]
  },
  {
   "cell_type": "code",
   "execution_count": 577,
   "metadata": {},
   "outputs": [
    {
     "data": {
      "text/plain": [
       "<matplotlib.axes._subplots.AxesSubplot at 0x133028a90>"
      ]
     },
     "execution_count": 577,
     "metadata": {},
     "output_type": "execute_result"
    },
    {
     "data": {
      "image/png": "[encoded data removed]",
      "text/plain": [
       "<Figure size 432x288 with 1 Axes>"
      ]
     },
     "metadata": {
      "needs_background": "light"
     },
     "output_type": "display_data"
    }
   ],
   "source": [
    "df.boxplot(column=['VERSION'])"
   ]
  },
  {
   "cell_type": "code",
   "execution_count": 578,
   "metadata": {},
   "outputs": [
    {
     "data": {
      "text/plain": [
       "DatetimeIndex(['2019-08-12', '2019-08-13', '2019-08-14', '2019-08-15',\n",
       "               '2019-08-16', '2019-08-19', '2019-08-20', '2019-08-21',\n",
       "               '2019-08-22', '2019-08-23', '2019-08-26', '2019-08-27',\n",
       "               '2019-08-28', '2019-08-29', '2019-08-30'],\n",
       "              dtype='datetime64[ns]', freq='B')"
      ]
     },
     "execution_count": 578,
     "metadata": {},
     "output_type": "execute_result"
    }
   ],
   "source": [
    "rng = pd.date_range(start=\"8/10/2019\", end=\"8/30/2019\", freq=\"B\"  )\n",
    "rng"
   ]
  },
  {
   "cell_type": "code",
   "execution_count": 579,
   "metadata": {},
   "outputs": [],
   "source": [
    "#count_version_75 = df[df['VERSION'] == 90].count()\n",
    "#(count_version_75 / df['FILE_ID'].count()) * 100"
   ]
  },
  {
   "cell_type": "code",
   "execution_count": 580,
   "metadata": {},
   "outputs": [
    {
     "data": {
      "text/plain": [
       "4"
      ]
     },
     "execution_count": 580,
     "metadata": {},
     "output_type": "execute_result"
    }
   ],
   "source": [
    "df['USER'].isnull().sum()"
   ]
  },
  {
   "cell_type": "code",
   "execution_count": 581,
   "metadata": {},
   "outputs": [],
   "source": [
    "df[df['USER'].isnull()]\n",
    "null_user = df['USER'].isnull()"
   ]
  },
  {
   "cell_type": "code",
   "execution_count": 582,
   "metadata": {},
   "outputs": [
    {
     "name": "stdout",
     "output_type": "stream",
     "text": [
      "102129\n"
     ]
    }
   ],
   "source": [
    "print(df['USER'].count())"
   ]
  },
  {
   "cell_type": "code",
   "execution_count": 583,
   "metadata": {},
   "outputs": [
    {
     "data": {
      "text/plain": [
       "221"
      ]
     },
     "execution_count": 583,
     "metadata": {},
     "output_type": "execute_result"
    }
   ],
   "source": [
    "df['VERSION'].isnull().sum()"
   ]
  },
  {
   "cell_type": "code",
   "execution_count": 584,
   "metadata": {},
   "outputs": [
    {
     "data": {
      "text/plain": [
       "74054"
      ]
     },
     "execution_count": 584,
     "metadata": {},
     "output_type": "execute_result"
    }
   ],
   "source": [
    "df['DELETED'].isnull().sum()"
   ]
  },
  {
   "cell_type": "code",
   "execution_count": 585,
   "metadata": {},
   "outputs": [],
   "source": [
    "df['MONTH']= df.CREATED.dt.month"
   ]
  },
  {
   "cell_type": "code",
   "execution_count": 586,
   "metadata": {},
   "outputs": [],
   "source": [
    "df['DAY']= df.CREATED.dt.day"
   ]
  },
  {
   "cell_type": "code",
   "execution_count": 587,
   "metadata": {},
   "outputs": [
    {
     "data": {
      "text/html": [
       "<div>\n",
       "<style scoped>\n",
       "    .dataframe tbody tr th:only-of-type {\n",
       "        vertical-align: middle;\n",
       "    }\n",
       "\n",
       "    .dataframe tbody tr th {\n",
       "        vertical-align: top;\n",
       "    }\n",
       "\n",
       "    .dataframe thead th {\n",
       "        text-align: right;\n",
       "    }\n",
       "</style>\n",
       "<table border=\"1\" class=\"dataframe\">\n",
       "  <thead>\n",
       "    <tr style=\"text-align: right;\">\n",
       "      <th></th>\n",
       "      <th>USER</th>\n",
       "      <th>CREATED</th>\n",
       "      <th>UPDATED</th>\n",
       "      <th>DELETED</th>\n",
       "      <th>VERSION</th>\n",
       "      <th>MONTH</th>\n",
       "      <th>DAY</th>\n",
       "    </tr>\n",
       "    <tr>\n",
       "      <th>FILE_ID</th>\n",
       "      <th></th>\n",
       "      <th></th>\n",
       "      <th></th>\n",
       "      <th></th>\n",
       "      <th></th>\n",
       "      <th></th>\n",
       "      <th></th>\n",
       "    </tr>\n",
       "  </thead>\n",
       "  <tbody>\n",
       "    <tr>\n",
       "      <th>18379860</th>\n",
       "      <td>967178</td>\n",
       "      <td>2019-09-28</td>\n",
       "      <td>2019-10-16</td>\n",
       "      <td>NaT</td>\n",
       "      <td>3.0</td>\n",
       "      <td>9</td>\n",
       "      <td>28</td>\n",
       "    </tr>\n",
       "    <tr>\n",
       "      <th>ddR02965</th>\n",
       "      <td>3156321</td>\n",
       "      <td>2019-10-18</td>\n",
       "      <td>2019-10-18</td>\n",
       "      <td>2019-10-18</td>\n",
       "      <td>1.0</td>\n",
       "      <td>10</td>\n",
       "      <td>18</td>\n",
       "    </tr>\n",
       "    <tr>\n",
       "      <th>17774460</th>\n",
       "      <td>245799</td>\n",
       "      <td>2019-08-21</td>\n",
       "      <td>2019-09-03</td>\n",
       "      <td>NaT</td>\n",
       "      <td>2.0</td>\n",
       "      <td>8</td>\n",
       "      <td>21</td>\n",
       "    </tr>\n",
       "    <tr>\n",
       "      <th>18013610</th>\n",
       "      <td>3012961</td>\n",
       "      <td>2019-09-05</td>\n",
       "      <td>2019-09-05</td>\n",
       "      <td>2019-09-05</td>\n",
       "      <td>1.0</td>\n",
       "      <td>9</td>\n",
       "      <td>5</td>\n",
       "    </tr>\n",
       "    <tr>\n",
       "      <th>18135495</th>\n",
       "      <td>3543312</td>\n",
       "      <td>2019-09-12</td>\n",
       "      <td>2019-11-28</td>\n",
       "      <td>NaT</td>\n",
       "      <td>56.0</td>\n",
       "      <td>9</td>\n",
       "      <td>12</td>\n",
       "    </tr>\n",
       "    <tr>\n",
       "      <th>ffR74195</th>\n",
       "      <td>3200796</td>\n",
       "      <td>2019-08-08</td>\n",
       "      <td>2019-11-11</td>\n",
       "      <td>NaT</td>\n",
       "      <td>14.0</td>\n",
       "      <td>8</td>\n",
       "      <td>8</td>\n",
       "    </tr>\n",
       "    <tr>\n",
       "      <th>18687760</th>\n",
       "      <td>214329</td>\n",
       "      <td>2019-10-17</td>\n",
       "      <td>2019-10-22</td>\n",
       "      <td>NaT</td>\n",
       "      <td>3.0</td>\n",
       "      <td>10</td>\n",
       "      <td>17</td>\n",
       "    </tr>\n",
       "    <tr>\n",
       "      <th>17956330</th>\n",
       "      <td>3538792</td>\n",
       "      <td>2019-09-02</td>\n",
       "      <td>2019-09-02</td>\n",
       "      <td>NaT</td>\n",
       "      <td>5.0</td>\n",
       "      <td>9</td>\n",
       "      <td>2</td>\n",
       "    </tr>\n",
       "    <tr>\n",
       "      <th>18086500</th>\n",
       "      <td>3173656</td>\n",
       "      <td>2019-09-10</td>\n",
       "      <td>2019-09-10</td>\n",
       "      <td>NaT</td>\n",
       "      <td>1.0</td>\n",
       "      <td>9</td>\n",
       "      <td>10</td>\n",
       "    </tr>\n",
       "    <tr>\n",
       "      <th>fgT54200</th>\n",
       "      <td>13nnJ08</td>\n",
       "      <td>2019-10-08</td>\n",
       "      <td>2019-10-23</td>\n",
       "      <td>2019-10-23</td>\n",
       "      <td>6.0</td>\n",
       "      <td>10</td>\n",
       "      <td>8</td>\n",
       "    </tr>\n",
       "  </tbody>\n",
       "</table>\n",
       "</div>"
      ],
      "text/plain": [
       "             USER    CREATED    UPDATED    DELETED  VERSION  MONTH  DAY\n",
       "FILE_ID                                                                \n",
       "18379860   967178 2019-09-28 2019-10-16        NaT      3.0      9   28\n",
       "ddR02965  3156321 2019-10-18 2019-10-18 2019-10-18      1.0     10   18\n",
       "17774460   245799 2019-08-21 2019-09-03        NaT      2.0      8   21\n",
       "18013610  3012961 2019-09-05 2019-09-05 2019-09-05      1.0      9    5\n",
       "18135495  3543312 2019-09-12 2019-11-28        NaT     56.0      9   12\n",
       "ffR74195  3200796 2019-08-08 2019-11-11        NaT     14.0      8    8\n",
       "18687760   214329 2019-10-17 2019-10-22        NaT      3.0     10   17\n",
       "17956330  3538792 2019-09-02 2019-09-02        NaT      5.0      9    2\n",
       "18086500  3173656 2019-09-10 2019-09-10        NaT      1.0      9   10\n",
       "fgT54200  13nnJ08 2019-10-08 2019-10-23 2019-10-23      6.0     10    8"
      ]
     },
     "execution_count": 587,
     "metadata": {},
     "output_type": "execute_result"
    }
   ],
   "source": [
    "df.sample(10)"
   ]
  },
  {
   "cell_type": "code",
   "execution_count": 588,
   "metadata": {},
   "outputs": [],
   "source": [
    "df.to_csv('user_data_processed.csv', index=False)"
   ]
  },
  {
   "cell_type": "code",
   "execution_count": 589,
   "metadata": {},
   "outputs": [
    {
     "data": {
      "text/plain": [
       "Timedelta('91 days 00:00:00')"
      ]
     },
     "execution_count": 589,
     "metadata": {},
     "output_type": "execute_result"
    }
   ],
   "source": [
    "df['CREATED'].max() - df['CREATED'].min()"
   ]
  },
  {
   "cell_type": "code",
   "execution_count": 590,
   "metadata": {},
   "outputs": [],
   "source": [
    "df_count = df.groupby('MONTH').count().reset_index()"
   ]
  },
  {
   "cell_type": "code",
   "execution_count": 591,
   "metadata": {},
   "outputs": [
    {
     "data": {
      "text/html": [
       "<div>\n",
       "<style scoped>\n",
       "    .dataframe tbody tr th:only-of-type {\n",
       "        vertical-align: middle;\n",
       "    }\n",
       "\n",
       "    .dataframe tbody tr th {\n",
       "        vertical-align: top;\n",
       "    }\n",
       "\n",
       "    .dataframe thead th {\n",
       "        text-align: right;\n",
       "    }\n",
       "</style>\n",
       "<table border=\"1\" class=\"dataframe\">\n",
       "  <thead>\n",
       "    <tr style=\"text-align: right;\">\n",
       "      <th></th>\n",
       "      <th>MONTH</th>\n",
       "      <th>USER</th>\n",
       "      <th>CREATED</th>\n",
       "      <th>UPDATED</th>\n",
       "      <th>DELETED</th>\n",
       "      <th>VERSION</th>\n",
       "      <th>DAY</th>\n",
       "    </tr>\n",
       "  </thead>\n",
       "  <tbody>\n",
       "    <tr>\n",
       "      <th>0</th>\n",
       "      <td>8</td>\n",
       "      <td>38481</td>\n",
       "      <td>38481</td>\n",
       "      <td>38481</td>\n",
       "      <td>11009</td>\n",
       "      <td>38423</td>\n",
       "      <td>38481</td>\n",
       "    </tr>\n",
       "    <tr>\n",
       "      <th>1</th>\n",
       "      <td>9</td>\n",
       "      <td>31631</td>\n",
       "      <td>31632</td>\n",
       "      <td>31632</td>\n",
       "      <td>9332</td>\n",
       "      <td>31548</td>\n",
       "      <td>31632</td>\n",
       "    </tr>\n",
       "    <tr>\n",
       "      <th>2</th>\n",
       "      <td>10</td>\n",
       "      <td>32017</td>\n",
       "      <td>32020</td>\n",
       "      <td>32020</td>\n",
       "      <td>7738</td>\n",
       "      <td>31941</td>\n",
       "      <td>32020</td>\n",
       "    </tr>\n",
       "  </tbody>\n",
       "</table>\n",
       "</div>"
      ],
      "text/plain": [
       "   MONTH   USER  CREATED  UPDATED  DELETED  VERSION    DAY\n",
       "0      8  38481    38481    38481    11009    38423  38481\n",
       "1      9  31631    31632    31632     9332    31548  31632\n",
       "2     10  32017    32020    32020     7738    31941  32020"
      ]
     },
     "execution_count": 591,
     "metadata": {},
     "output_type": "execute_result"
    }
   ],
   "source": [
    "df_count"
   ]
  },
  {
   "cell_type": "code",
   "execution_count": 592,
   "metadata": {},
   "outputs": [],
   "source": [
    "df_day = df.groupby('DAY').count().reset_index()"
   ]
  },
  {
   "cell_type": "code",
   "execution_count": 593,
   "metadata": {},
   "outputs": [
    {
     "data": {
      "text/html": [
       "<div>\n",
       "<style scoped>\n",
       "    .dataframe tbody tr th:only-of-type {\n",
       "        vertical-align: middle;\n",
       "    }\n",
       "\n",
       "    .dataframe tbody tr th {\n",
       "        vertical-align: top;\n",
       "    }\n",
       "\n",
       "    .dataframe thead th {\n",
       "        text-align: right;\n",
       "    }\n",
       "</style>\n",
       "<table border=\"1\" class=\"dataframe\">\n",
       "  <thead>\n",
       "    <tr style=\"text-align: right;\">\n",
       "      <th></th>\n",
       "      <th>DAY</th>\n",
       "      <th>USER</th>\n",
       "      <th>CREATED</th>\n",
       "      <th>UPDATED</th>\n",
       "      <th>DELETED</th>\n",
       "      <th>VERSION</th>\n",
       "      <th>MONTH</th>\n",
       "    </tr>\n",
       "  </thead>\n",
       "  <tbody>\n",
       "    <tr>\n",
       "      <th>0</th>\n",
       "      <td>1</td>\n",
       "      <td>3017</td>\n",
       "      <td>3017</td>\n",
       "      <td>3017</td>\n",
       "      <td>879</td>\n",
       "      <td>3010</td>\n",
       "      <td>3017</td>\n",
       "    </tr>\n",
       "    <tr>\n",
       "      <th>1</th>\n",
       "      <td>2</td>\n",
       "      <td>3490</td>\n",
       "      <td>3490</td>\n",
       "      <td>3490</td>\n",
       "      <td>949</td>\n",
       "      <td>3483</td>\n",
       "      <td>3490</td>\n",
       "    </tr>\n",
       "    <tr>\n",
       "      <th>2</th>\n",
       "      <td>3</td>\n",
       "      <td>2807</td>\n",
       "      <td>2807</td>\n",
       "      <td>2807</td>\n",
       "      <td>857</td>\n",
       "      <td>2802</td>\n",
       "      <td>2807</td>\n",
       "    </tr>\n",
       "    <tr>\n",
       "      <th>3</th>\n",
       "      <td>4</td>\n",
       "      <td>2770</td>\n",
       "      <td>2770</td>\n",
       "      <td>2770</td>\n",
       "      <td>879</td>\n",
       "      <td>2766</td>\n",
       "      <td>2770</td>\n",
       "    </tr>\n",
       "    <tr>\n",
       "      <th>4</th>\n",
       "      <td>5</td>\n",
       "      <td>3068</td>\n",
       "      <td>3068</td>\n",
       "      <td>3068</td>\n",
       "      <td>1012</td>\n",
       "      <td>3063</td>\n",
       "      <td>3068</td>\n",
       "    </tr>\n",
       "  </tbody>\n",
       "</table>\n",
       "</div>"
      ],
      "text/plain": [
       "   DAY  USER  CREATED  UPDATED  DELETED  VERSION  MONTH\n",
       "0    1  3017     3017     3017      879     3010   3017\n",
       "1    2  3490     3490     3490      949     3483   3490\n",
       "2    3  2807     2807     2807      857     2802   2807\n",
       "3    4  2770     2770     2770      879     2766   2770\n",
       "4    5  3068     3068     3068     1012     3063   3068"
      ]
     },
     "execution_count": 593,
     "metadata": {},
     "output_type": "execute_result"
    }
   ],
   "source": [
    "df_day.head()"
   ]
  },
  {
   "cell_type": "code",
   "execution_count": 594,
   "metadata": {},
   "outputs": [
    {
     "data": {
      "image/png": "[encoded data removed]",
      "text/plain": [
       "<Figure size 432x288 with 1 Axes>"
      ]
     },
     "metadata": {
      "needs_background": "light"
     },
     "output_type": "display_data"
    }
   ],
   "source": [
    "plt.scatter(df_day['DAY'], df_day['CREATED']);"
   ]
  },
  {
   "cell_type": "code",
   "execution_count": null,
   "metadata": {},
   "outputs": [],
   "source": []
  },
  {
   "cell_type": "code",
   "execution_count": 595,
   "metadata": {},
   "outputs": [],
   "source": [
    "df_max_version = df.groupby('MONTH').max().reset_index()"
   ]
  },
  {
   "cell_type": "code",
   "execution_count": 596,
   "metadata": {},
   "outputs": [
    {
     "data": {
      "text/html": [
       "<div>\n",
       "<style scoped>\n",
       "    .dataframe tbody tr th:only-of-type {\n",
       "        vertical-align: middle;\n",
       "    }\n",
       "\n",
       "    .dataframe tbody tr th {\n",
       "        vertical-align: top;\n",
       "    }\n",
       "\n",
       "    .dataframe thead th {\n",
       "        text-align: right;\n",
       "    }\n",
       "</style>\n",
       "<table border=\"1\" class=\"dataframe\">\n",
       "  <thead>\n",
       "    <tr style=\"text-align: right;\">\n",
       "      <th></th>\n",
       "      <th>MONTH</th>\n",
       "      <th>CREATED</th>\n",
       "      <th>UPDATED</th>\n",
       "      <th>DELETED</th>\n",
       "      <th>VERSION</th>\n",
       "      <th>DAY</th>\n",
       "    </tr>\n",
       "  </thead>\n",
       "  <tbody>\n",
       "    <tr>\n",
       "      <th>0</th>\n",
       "      <td>8</td>\n",
       "      <td>2019-08-31</td>\n",
       "      <td>2020-02-04</td>\n",
       "      <td>2020-02-04</td>\n",
       "      <td>780.0</td>\n",
       "      <td>31</td>\n",
       "    </tr>\n",
       "    <tr>\n",
       "      <th>1</th>\n",
       "      <td>9</td>\n",
       "      <td>2019-09-30</td>\n",
       "      <td>2020-02-04</td>\n",
       "      <td>2020-02-04</td>\n",
       "      <td>912.0</td>\n",
       "      <td>30</td>\n",
       "    </tr>\n",
       "    <tr>\n",
       "      <th>2</th>\n",
       "      <td>10</td>\n",
       "      <td>2019-10-31</td>\n",
       "      <td>2020-02-04</td>\n",
       "      <td>2020-02-04</td>\n",
       "      <td>1494.0</td>\n",
       "      <td>31</td>\n",
       "    </tr>\n",
       "  </tbody>\n",
       "</table>\n",
       "</div>"
      ],
      "text/plain": [
       "   MONTH    CREATED    UPDATED    DELETED  VERSION  DAY\n",
       "0      8 2019-08-31 2020-02-04 2020-02-04    780.0   31\n",
       "1      9 2019-09-30 2020-02-04 2020-02-04    912.0   30\n",
       "2     10 2019-10-31 2020-02-04 2020-02-04   1494.0   31"
      ]
     },
     "execution_count": 596,
     "metadata": {},
     "output_type": "execute_result"
    }
   ],
   "source": [
    "df_max_version"
   ]
  },
  {
   "cell_type": "code",
   "execution_count": 597,
   "metadata": {},
   "outputs": [],
   "source": [
    "df_max_version = df.groupby('DAY').max().reset_index()"
   ]
  },
  {
   "cell_type": "code",
   "execution_count": 598,
   "metadata": {},
   "outputs": [
    {
     "data": {
      "text/html": [
       "<div>\n",
       "<style scoped>\n",
       "    .dataframe tbody tr th:only-of-type {\n",
       "        vertical-align: middle;\n",
       "    }\n",
       "\n",
       "    .dataframe tbody tr th {\n",
       "        vertical-align: top;\n",
       "    }\n",
       "\n",
       "    .dataframe thead th {\n",
       "        text-align: right;\n",
       "    }\n",
       "</style>\n",
       "<table border=\"1\" class=\"dataframe\">\n",
       "  <thead>\n",
       "    <tr style=\"text-align: right;\">\n",
       "      <th></th>\n",
       "      <th>DAY</th>\n",
       "      <th>CREATED</th>\n",
       "      <th>UPDATED</th>\n",
       "      <th>DELETED</th>\n",
       "      <th>VERSION</th>\n",
       "      <th>MONTH</th>\n",
       "    </tr>\n",
       "  </thead>\n",
       "  <tbody>\n",
       "    <tr>\n",
       "      <th>0</th>\n",
       "      <td>1</td>\n",
       "      <td>2019-10-01</td>\n",
       "      <td>2020-02-04</td>\n",
       "      <td>2020-02-04</td>\n",
       "      <td>652.0</td>\n",
       "      <td>10</td>\n",
       "    </tr>\n",
       "    <tr>\n",
       "      <th>1</th>\n",
       "      <td>2</td>\n",
       "      <td>2019-10-02</td>\n",
       "      <td>2020-02-04</td>\n",
       "      <td>2020-02-04</td>\n",
       "      <td>609.0</td>\n",
       "      <td>10</td>\n",
       "    </tr>\n",
       "    <tr>\n",
       "      <th>2</th>\n",
       "      <td>3</td>\n",
       "      <td>2019-10-03</td>\n",
       "      <td>2020-02-04</td>\n",
       "      <td>2020-02-01</td>\n",
       "      <td>490.0</td>\n",
       "      <td>10</td>\n",
       "    </tr>\n",
       "    <tr>\n",
       "      <th>3</th>\n",
       "      <td>4</td>\n",
       "      <td>2019-10-04</td>\n",
       "      <td>2020-02-04</td>\n",
       "      <td>2020-02-04</td>\n",
       "      <td>623.0</td>\n",
       "      <td>10</td>\n",
       "    </tr>\n",
       "    <tr>\n",
       "      <th>4</th>\n",
       "      <td>5</td>\n",
       "      <td>2019-10-05</td>\n",
       "      <td>2020-02-04</td>\n",
       "      <td>2020-02-04</td>\n",
       "      <td>487.0</td>\n",
       "      <td>10</td>\n",
       "    </tr>\n",
       "  </tbody>\n",
       "</table>\n",
       "</div>"
      ],
      "text/plain": [
       "   DAY    CREATED    UPDATED    DELETED  VERSION  MONTH\n",
       "0    1 2019-10-01 2020-02-04 2020-02-04    652.0     10\n",
       "1    2 2019-10-02 2020-02-04 2020-02-04    609.0     10\n",
       "2    3 2019-10-03 2020-02-04 2020-02-01    490.0     10\n",
       "3    4 2019-10-04 2020-02-04 2020-02-04    623.0     10\n",
       "4    5 2019-10-05 2020-02-04 2020-02-04    487.0     10"
      ]
     },
     "execution_count": 598,
     "metadata": {},
     "output_type": "execute_result"
    }
   ],
   "source": [
    "df_max_version.head()"
   ]
  },
  {
   "cell_type": "code",
   "execution_count": 599,
   "metadata": {},
   "outputs": [
    {
     "name": "stdout",
     "output_type": "stream",
     "text": [
      "Percentage of created files in Aug: 0.38\n",
      "Percentage of created files in Sep: 0.31\n",
      "Percentage of created files in Oct: 0.31\n"
     ]
    }
   ],
   "source": [
    "print(\"Percentage of created files in Aug: \" + str(round(df_count.loc[0,'CREATED']/df.shape[0],2)))\n",
    "print(\"Percentage of created files in Sep: \" + str(round(df_count.loc[1,'CREATED']/df.shape[0],2)))\n",
    "print(\"Percentage of created files in Oct: \" + str(round(df_count.loc[2,'CREATED']/df.shape[0],2)))"
   ]
  },
  {
   "cell_type": "code",
   "execution_count": 600,
   "metadata": {},
   "outputs": [
    {
     "name": "stdout",
     "output_type": "stream",
     "text": [
      "Percentage of deleted files in Aug: 0.11\n",
      "Percentage of deleted files in Sep: 0.09\n",
      "Percentage of deleted files in Oct: 0.08\n"
     ]
    }
   ],
   "source": [
    "print(\"Percentage of deleted files in Aug: \" + str(round(df_count.loc[0,'DELETED']/df.shape[0],2)))\n",
    "print(\"Percentage of deleted files in Sep: \" + str(round(df_count.loc[1,'DELETED']/df.shape[0],2)))\n",
    "print(\"Percentage of deleted files in Oct: \" + str(round(df_count.loc[2,'DELETED']/df.shape[0],2)))"
   ]
  },
  {
   "cell_type": "code",
   "execution_count": 601,
   "metadata": {},
   "outputs": [],
   "source": [
    "# 72% not deleted\n",
    "# 28% deleted"
   ]
  },
  {
   "cell_type": "code",
   "execution_count": 602,
   "metadata": {},
   "outputs": [
    {
     "data": {
      "text/plain": [
       "3282991    6038\n",
       "3173656     837\n",
       "247948      809\n",
       "3477pp6     745\n",
       "2585131     711\n",
       "           ... \n",
       "3649725       1\n",
       "2820371       1\n",
       "3638080       1\n",
       "3668815       1\n",
       "3649240       1\n",
       "Name: USER, Length: 10035, dtype: int64"
      ]
     },
     "execution_count": 602,
     "metadata": {},
     "output_type": "execute_result"
    }
   ],
   "source": [
    "df['USER'].value_counts()"
   ]
  },
  {
   "cell_type": "code",
   "execution_count": null,
   "metadata": {},
   "outputs": [],
   "source": []
  }
 ],
 "metadata": {
  "kernelspec": {
   "display_name": "Python 3",
   "language": "python",
   "name": "python3"
  },
  "language_info": {
   "codemirror_mode": {
    "name": "ipython",
    "version": 3
   },
   "file_extension": ".py",
   "mimetype": "text/x-python",
   "name": "python",
   "nbconvert_exporter": "python",
   "pygments_lexer": "ipython3",
   "version": "3.7.2"
  }
 },
 "nbformat": 4,
 "nbformat_minor": 4
}
